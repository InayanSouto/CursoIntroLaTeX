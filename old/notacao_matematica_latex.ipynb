{
 "cells": [
  {
   "cell_type": "markdown",
   "metadata": {},
   "source": [
    "# $\\LaTeX$\n",
    "\n",
    "$\\LaTeX$ is a typesetting language for producing scientific documents. We introduce a very small part of the language for writing mathematical notation. Jupyter notebook recognizes LaTeX code written in markdown cells and renders the symbols in the browser using the MathJax JavaScript library.\n",
    "\n",
    "## Mathematics Inline and Display\n",
    "\n",
    "Enclose LaTeX code in dollar signs \\\\$ ... \\\\$ to display math inline. For example, the code \\\\$\\int_a^b f(x) = F(b) - F(a)\\\\$ renders inline as $\\int_a^b f(x) = F(b) - F(a)$."
   ]
  },
  {
   "cell_type": "markdown",
   "metadata": {},
   "source": [
    "Enclose LaTeX code in double dollar signs \\\\$\\\\$ ... \\\\$\\\\$ to display expressions in a centered paragraph. For example:"
   ]
  },
  {
   "cell_type": "raw",
   "metadata": {},
   "source": [
    "$$f'(a) = \\lim_{x \\to a} \\frac{f(x) - f(a)}{x-a}$$"
   ]
  },
  {
   "cell_type": "markdown",
   "metadata": {},
   "source": [
    "renders as"
   ]
  },
  {
   "cell_type": "markdown",
   "metadata": {},
   "source": [
    "$$f'(a) = \\lim_{x \\to a} \\frac{f(x) - f(a)}{x-a}$$"
   ]
  },
  {
   "cell_type": "markdown",
   "metadata": {},
   "source": [
    "See the LaTeX WikiBook for more information (especially the section on mathematics)."
   ]
  },
  {
   "cell_type": "markdown",
   "metadata": {},
   "source": [
    "## Common Symbols\n",
    "\n",
    "Below we give a partial list of commonly used mathematical symbols. Most other symbols can be inferred from these examples. See the LaTeX WikiBook (Mathematics) and the Detexify App to find any symbol you can think of!"
   ]
  },
  {
   "cell_type": "markdown",
   "metadata": {},
   "source": []
  },
  {
   "cell_type": "markdown",
   "metadata": {},
   "source": [
    "## Matrices and Brackets\n",
    "\n",
    "Create a matrix without brackets:"
   ]
  },
  {
   "cell_type": "raw",
   "metadata": {},
   "source": [
    "$$\\begin{matrix} a & b \\\\ c & d \\end{matrix}$$"
   ]
  },
  {
   "cell_type": "markdown",
   "metadata": {},
   "source": [
    "$$\\begin{matrix} a & b \\\\ c & d \\end{matrix}$$"
   ]
  },
  {
   "cell_type": "markdown",
   "metadata": {},
   "source": [
    "Create a matrix with round brackets:"
   ]
  },
  {
   "cell_type": "raw",
   "metadata": {},
   "source": [
    "$$\\begin{pmatrix} a & b \\\\ c & d \\end{pmatrix}$$"
   ]
  },
  {
   "cell_type": "markdown",
   "metadata": {},
   "source": [
    "$$\\begin{pmatrix} a & b \\\\ c & d \\end{pmatrix}$$"
   ]
  },
  {
   "cell_type": "markdown",
   "metadata": {},
   "source": [
    "Create a matrix with square brackets:"
   ]
  },
  {
   "cell_type": "raw",
   "metadata": {},
   "source": [
    "$$\\begin{bmatrix} 1 & 2 & -1 \\\\ 3 & 0 & 1 \\\\ 0 & 2 & 4 \\end{bmatrix}$$"
   ]
  },
  {
   "cell_type": "markdown",
   "metadata": {},
   "source": [
    "$$\\begin{bmatrix} 1 & 2 & -1 \\\\ 3 & 0 & 1 \\\\ 0 & 2 & 4 \\end{bmatrix}$$"
   ]
  },
  {
   "cell_type": "markdown",
   "metadata": {},
   "source": [
    "Use \\left and \\right to enclose an arbitrary expression in brackets:"
   ]
  },
  {
   "cell_type": "raw",
   "metadata": {},
   "source": [
    "$$\\left(\\frac{p}{q} \\right)$$"
   ]
  },
  {
   "cell_type": "markdown",
   "metadata": {},
   "source": [
    "$$\\left(\\frac{p}{q} \\right)$$"
   ]
  },
  {
   "cell_type": "markdown",
   "metadata": {},
   "source": [
    "## Examples\n",
    "### Derivative\n",
    "\n",
    "The derivative $f'(a)$ of the function $f(x)$ at the point $x=a$ is the limit"
   ]
  },
  {
   "cell_type": "raw",
   "metadata": {},
   "source": [
    "$$f'(a) = \\lim_{x \\to a} \\frac{f(x) - f(a)}{x - a}$$"
   ]
  },
  {
   "cell_type": "markdown",
   "metadata": {},
   "source": [
    "$$f'(a) = \\lim_{x \\to a} \\frac{f(x) - f(a)}{x - a}$$"
   ]
  },
  {
   "cell_type": "markdown",
   "metadata": {},
   "source": [
    "### Continuity\n",
    "\n",
    "A function $f(x)$ is continuous at a point $x=a$ if"
   ]
  },
  {
   "cell_type": "raw",
   "metadata": {},
   "source": [
    "$$\\lim_{x \\to a^-} f(x) = f(a) = \\lim_{x \\to a^+} f(x)$$"
   ]
  },
  {
   "cell_type": "markdown",
   "metadata": {},
   "source": [
    "$$\\lim_{x \\to a^-} f(x) = f(a) = \\lim_{x \\to a^+} f(x)$$"
   ]
  },
  {
   "cell_type": "markdown",
   "metadata": {},
   "source": [
    "### MacLaurin Series\n",
    "\n",
    "The MacLaurin series for $e^x$ is"
   ]
  },
  {
   "cell_type": "raw",
   "metadata": {},
   "source": [
    "$$e^x = \\sum_{k=0}^{\\infty} \\frac{x^k}{k!}$$"
   ]
  },
  {
   "cell_type": "markdown",
   "metadata": {},
   "source": [
    "$$e^x = \\sum_{k=0}^{\\infty} \\frac{x^k}{k!}$$"
   ]
  },
  {
   "cell_type": "markdown",
   "metadata": {},
   "source": [
    "### Jacobian Matrix\n",
    "\n",
    "The Jacobian matrix of the function $\\mathbf{f}(x_1, \\dots, x_n)$\n",
    "is"
   ]
  },
  {
   "cell_type": "raw",
   "metadata": {},
   "source": [
    "$$\n",
    "\\mathbf{J}\n",
    "=\n",
    "\\frac{d \\mathbf{f}}{d \\mathbf{x}}\n",
    "=\n",
    "\\left[ \\frac{\\partial \\mathbf{f}}{\\partial x_1}\n",
    "\\cdots \\frac{\\partial \\mathbf{f}}{\\partial x_n} \\right]\n",
    "=\n",
    "\\begin{bmatrix}\n",
    "\\frac{\\partial f_1}{\\partial x_1} & \\cdots &\n",
    "\\frac{\\partial f_1}{\\partial x_n} \\\\\n",
    "\\vdots & \\ddots & \\vdots \\\\\n",
    "\\frac{\\partial f_m}{\\partial x_1} & \\cdots &\n",
    "\\frac{\\partial f_m}{\\partial x_n}\n",
    "\\end{bmatrix}\n",
    "$$"
   ]
  },
  {
   "cell_type": "markdown",
   "metadata": {},
   "source": [
    "$$\n",
    "\\mathbf{J}\n",
    "=\n",
    "\\frac{d \\mathbf{f}}{d \\mathbf{x}}\n",
    "=\n",
    "\\left[ \\frac{\\partial \\mathbf{f}}{\\partial x_1}\n",
    "\\cdots \\frac{\\partial \\mathbf{f}}{\\partial x_n} \\right]\n",
    "=\n",
    "\\begin{bmatrix}\n",
    "\\frac{\\partial f_1}{\\partial x_1} & \\cdots &\n",
    "\\frac{\\partial f_1}{\\partial x_n} \\\\\n",
    "\\vdots & \\ddots & \\vdots \\\\\n",
    "\\frac{\\partial f_m}{\\partial x_1} & \\cdots &\n",
    "\\frac{\\partial f_m}{\\partial x_n}\n",
    "\\end{bmatrix}\n",
    "$$"
   ]
  },
  {
   "cell_type": "markdown",
   "metadata": {},
   "source": [
    "## Exercises\n",
    "\n",
    "1. Write LaTeX code to display the angle sum identity\n",
    "\n",
    "$$ \\text{cos}(\\alpha \\pm \\beta) = \\text{cos}\\alpha \\text{cos}\\beta \\mp \\text{sin}\\alpha \\text{sin}\\beta$$\n",
    "\n",
    "2. Write LaTeX code to display the indefinite integral\n",
    "\n",
    "$$ \\int \\frac{1}{a+x^2}dx = \\text{arctan} x + C $$\n",
    "\n",
    "3. Write LaTeX code to display the Navier-Stokes Equation for Incompressible Flow\n",
    "\n",
    "$$ \\frac{\\partial{\\mathbf{u}}}{\\partial{t}} + (\\mathbf{u} \\cdot \\nabla)\\mathbf{u} - \\nu \\nabla^2 \\mathbf{u} = - \\nabla \\omega + \\mathbf{g} $$\n",
    "\n",
    "4. Write LaTeX code to display Green's Theorem\n",
    "\n",
    "$$ \\oint_C (Ldx + Mdy) = \\iint_D \\bigg(\\frac{\\partial{M}}{\\partial{x}} - \\frac{\\partial{L}}{\\partial{y}}\\bigg)dxdy $$\n",
    "\n",
    "5. Write LaTeX code to display the Prime Number Theorem\n",
    "\n",
    "$$ \\lim_{x \\to \\infty} \\frac{\\pi(x)}{\\frac{x}{\\text{log}(x)}} = 1$$\n",
    "\n",
    "6. Write LaTeX code to display the general formula for Taylor series\n",
    "\n",
    "$$ \\sum_{n=0}^{\\infty} \\frac{f^{(n)}(a)}{n!}(x-a)^n $$\n",
    "\n",
    "7. Write LaTeX code to display Stokes' Theorem\n",
    "\n",
    "$$ \\int_{\\partial{\\Omega}} \\omega = \\int_{\\Omega} d\\omega $$\n",
    "\n",
    "8. Write LaTeX code to display the adjoint property of the tensor product\n",
    "\n",
    "$$ \\text{Hom}(U \\otimes V, W) \\cong \\text{Hom}(U, \\text{Hom}(V,W)) $$\n",
    "\n",
    "9. Write LaTeX code to display the definition of the Laplace transform\n",
    "\n",
    "$$ \\mathcal{L} \\lbrace f(t) \\rbrace = F(s) \\int_{0}^{\\infty} f(t) e^{-st} dt $$\n",
    "\n",
    "10. Write LaTeX code to display the inverse matrix formula\n",
    "\n",
    "$$ \n",
    "\\begin{bmatrix}\n",
    "a & b \\\\\n",
    "c & d \\\\\n",
    "\\end{bmatrix}^{-1} \n",
    "= \\frac{1}{ad-bc} \n",
    "\\begin{bmatrix}\n",
    "d  & -b \\\\\n",
    "-c & a  \\\\\n",
    "\\end{bmatrix}\n",
    "$$\n",
    "\n",
    "11. Write LaTeX code to display the infinite product formula\n",
    "\n",
    "$$ \\text{sin}x = x \\prod^{\\infty}_{n=1} \\bigg(1 - \\frac{x^2}{\\pi^{2} n^{2}} \\bigg)$$\n",
    "\n",
    "12. Pick your favourite math course and write the notes from your last class in LaTeX.\n",
    "\n",
    "$$ $$"
   ]
  },
  {
   "cell_type": "code",
   "execution_count": null,
   "metadata": {},
   "outputs": [],
   "source": []
  }
 ],
 "metadata": {
  "kernelspec": {
   "display_name": "Python 3",
   "language": "python",
   "name": "python3"
  },
  "language_info": {
   "codemirror_mode": {
    "name": "ipython",
    "version": 3
   },
   "file_extension": ".py",
   "mimetype": "text/x-python",
   "name": "python",
   "nbconvert_exporter": "python",
   "pygments_lexer": "ipython3",
   "version": "3.7.3"
  },
  "latex_envs": {
   "LaTeX_envs_menu_present": true,
   "autoclose": false,
   "autocomplete": true,
   "bibliofile": "biblio.bib",
   "cite_by": "apalike",
   "current_citInitial": 1,
   "eqLabelWithNumbers": true,
   "eqNumInitial": 1,
   "hotkeys": {
    "equation": "Ctrl-E",
    "itemize": "Ctrl-I"
   },
   "labels_anchors": false,
   "latex_user_defs": false,
   "report_style_numbering": false,
   "user_envs_cfg": false
  }
 },
 "nbformat": 4,
 "nbformat_minor": 2
}
