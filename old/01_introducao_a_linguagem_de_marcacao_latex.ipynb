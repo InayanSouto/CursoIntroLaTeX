{
 "cells": [
  {
   "cell_type": "markdown",
   "metadata": {},
   "source": [
    "# Introdução ao $\\LaTeX$\n",
    "\n",
    "Este notebook foi preparado para servir como um tutorial interativo ao aprendizado da linguagem de marcação $\\LaTeX$.\n",
    "\n",
    "Se você tem ou já teve alguma experiência com as linguagens HTML e/ou CSS, vai entender rapidamente como o latex funciona. Linguagens de programação também ajudam a tornar o entendimento mais fácil, mas nenhuma delas é um pré-requisito. Vamos aprender a utilizar o latex a partir do zero.\n",
    "\n",
    "O latex é uma linguagem de marcação. Isto significa que, ao invés de utilizarmos um editor de textos WYSIWYG como o Microsoft Word, em que digitamos o texto e dizemos ao editor como as palavras devem ser apresentadas, com uma linguagem de marcação, nós dizemos, escrevemos, como as palavras devem ser apresentadas.\n",
    "\n",
    "Com o latex podemos marcar não apenas palavras, mas também equações, tabelas e até desenhos. Um desenho no latex é, literalmente, um texto.\n",
    "\n",
    "Antes de iniciarmos, é necessário antes, entendermos como funciona o Jupyter. O Jupyter é um notebook composto de células que servem como linhas de comando. O Jupyter pode ser utilizado com algumas linguagens, como o Python, o Markdown (uma outra linguagem de marcação) e o latex. Como o nosso objetivo é aprender a como marcar texto utilizando o latex, então precisamos, antes, configurar as célular para serem renderizadas como texto. Fazemos isso pressionando as teclas ESC+m. Uma vez que digitamos uma instrução em uma célula, para obtermos a resposta, é necessário pressionar as teclas SHIFT+ENTER. \n",
    "\n",
    "Então, resumindo:\n",
    "\n",
    "1. Ao digitarmos comando do latex em uma célula do Jupyter, pressionamos ESC+m;\n",
    "2. Depois de pressionarmos ESC+m, pressionamos SHIFT+ENTER para executar.\n",
    "\n",
    "## Marcando texto puro\n",
    "\n",
    "Em um editor WYSIWYG, podemos editar palavras nos seguintes estilos:\n",
    "\n",
    "* $\\bf{negrito}$\n",
    "* $\\it{itálico}$\n",
    "* $\\underline{sublinhado}$\n",
    "* \\\\$\\strike{riscado}\\\\$\n",
    "\n",
    "Experimente digitar os seguintes comandos em células individuais a seguir:"
   ]
  },
  {
   "cell_type": "raw",
   "metadata": {},
   "source": [
    "$$\\bf{negrito}$$"
   ]
  },
  {
   "cell_type": "raw",
   "metadata": {},
   "source": [
    "$$\\it{itálico}$$"
   ]
  },
  {
   "cell_type": "raw",
   "metadata": {},
   "source": [
    "$$\\underline{sublinhado}$$"
   ]
  },
  {
   "cell_type": "raw",
   "metadata": {},
   "source": [
    "\\\\$\\strike{riscado}\\\\$"
   ]
  },
  {
   "cell_type": "markdown",
   "metadata": {},
   "source": [
    "$$\\bf{negrito}$$"
   ]
  },
  {
   "cell_type": "markdown",
   "metadata": {},
   "source": [
    "$$\\it{itálico}$$"
   ]
  },
  {
   "cell_type": "markdown",
   "metadata": {},
   "source": [
    "$$\\underline{sublinhado}$$"
   ]
  },
  {
   "cell_type": "markdown",
   "metadata": {},
   "source": [
    "\\\\$\\strike{riscado}\\\\$"
   ]
  },
  {
   "cell_type": "markdown",
   "metadata": {},
   "source": [
    "No parágrafo a seguir, experimente marcar algumas palavras com os estilos apresentados:"
   ]
  },
  {
   "cell_type": "markdown",
   "metadata": {},
   "source": [
    "Lorem ipsum dolor sit amet, consectetur adipiscing elit. Curabitur libero nibh, rhoncus id tempor sit amet, tincidunt eu neque. Pellentesque eu nibh nec odio mattis sodales. Sed id mauris dui. Sed non auctor nibh. Pellentesque non urna augue. Ut imperdiet turpis sit amet velit efficitur, et sollicitudin eros consequat. Cras pretium ullamcorper erat, vitae venenatis elit scelerisque id. Class aptent taciti sociosqu ad litora torquent per conubia nostra, per inceptos himenaeos. "
   ]
  },
  {
   "cell_type": "markdown",
   "metadata": {},
   "source": [
    "## Tamanho das fontes\n",
    "\n",
    "No latex, ao longo de um parágrafo, é possível alterar o tamanho da fonte.\n",
    "\n",
    "* $\\Huge Huge$ \n",
    "* $\\huge huge$\n",
    "* $\\LARGE LARGE$\n",
    "* $\\Large Large$\n",
    "* $\\large large$\n",
    "* $\\normalsize normalsize$\n",
    "* $\\small small$\n",
    "* $\\footnotesize footnotesize$\n",
    "* $\\scriptsize scriptsize$\n",
    "* $\\tiny tiny$"
   ]
  },
  {
   "cell_type": "markdown",
   "metadata": {},
   "source": [
    "Experimente digitar os comando a seguir em células individuais:"
   ]
  },
  {
   "cell_type": "raw",
   "metadata": {},
   "source": [
    "$$\\Huge Huge$$\n",
    "$$\\huge huge$$\n",
    "$$\\LARGE LARGE$$\n",
    "$$\\Large Large$$\n",
    "$$\\large large$$\n",
    "$$\\normalsize normalsize$$\n",
    "$$\\small small$$\n",
    "$$\\footnotesize footnotesize$$\n",
    "$$\\scriptsize scriptsize$$\n",
    "$$\\tiny tiny$$"
   ]
  },
  {
   "cell_type": "markdown",
   "metadata": {},
   "source": [
    "$$\\Huge Huge$$\n",
    "$$\\huge huge$$\n",
    "$$\\LARGE LARGE$$\n",
    "$$\\Large Large$$\n",
    "$$\\large large$$\n",
    "$$\\normalsize normalsize$$\n",
    "$$\\small small$$\n",
    "$$\\footnotesize footnotesize$$\n",
    "$$\\scriptsize scriptsize$$\n",
    "$$\\tiny tiny$$"
   ]
  },
  {
   "cell_type": "markdown",
   "metadata": {},
   "source": [
    "No parágrafo a seguir, experimente marcar algumas palavras com os tamanhos de fontes apresentados:"
   ]
  },
  {
   "cell_type": "markdown",
   "metadata": {},
   "source": [
    "Phasellus ut volutpat turpis. Quisque volutpat metus nec lorem porttitor, ac hendrerit lacus eleifend. Sed elementum erat ut tellus vestibulum interdum. Praesent id cursus augue. Curabitur eros velit, fringilla id risus vitae, pharetra sodales ante. Sed fringilla, sem quis semper laoreet, orci elit tincidunt felis, sit amet elementum nisi justo ac dolor. Cras porta urna ut mattis dictum. Ut quis condimentum tellus. Aenean vulputate orci quis interdum venenatis. Nullam dignissim iaculis libero, eget imperdiet nisl molestie ut. Vivamus sollicitudin massa est. "
   ]
  },
  {
   "cell_type": "markdown",
   "metadata": {},
   "source": [
    "\\begin{definition} \\label{def:FT}\n",
    "Let $x[n]$ be a sequence of length $N$. Then, its **Fourier transform** is given by\n",
    "\\begin{equation}\n",
    "\\label{eq:FT}\n",
    "X[k]= \\frac{1}{N} \\sum_{n=0}^{N-1} x[n] e^{-j2\\pi \\frac{kn}{N}}\n",
    "\\end{equation}\n",
    "\\end{definition}"
   ]
  },
  {
   "cell_type": "markdown",
   "metadata": {},
   "source": [
    "\\begin{figure}\n",
    "\\centerline{\\includegraphics[width=10cm]{example.png}}\n",
    "\\caption{\\label{fig:example} This is an example of figure included using LaTeX commands.}\n",
    "\\end{figure}"
   ]
  },
  {
   "cell_type": "code",
   "execution_count": null,
   "metadata": {},
   "outputs": [],
   "source": []
  }
 ],
 "metadata": {
  "kernelspec": {
   "display_name": "Python 3",
   "language": "python",
   "name": "python3"
  },
  "language_info": {
   "codemirror_mode": {
    "name": "ipython",
    "version": 3
   },
   "file_extension": ".py",
   "mimetype": "text/x-python",
   "name": "python",
   "nbconvert_exporter": "python",
   "pygments_lexer": "ipython3",
   "version": "3.7.3"
  },
  "latex_envs": {
   "LaTeX_envs_menu_present": true,
   "autoclose": false,
   "autocomplete": true,
   "bibliofile": "biblio.bib",
   "cite_by": "apalike",
   "current_citInitial": 1,
   "eqLabelWithNumbers": true,
   "eqNumInitial": 1,
   "hotkeys": {
    "equation": "Ctrl-E",
    "itemize": "Ctrl-I"
   },
   "labels_anchors": false,
   "latex_user_defs": false,
   "report_style_numbering": false,
   "user_envs_cfg": false
  }
 },
 "nbformat": 4,
 "nbformat_minor": 2
}
